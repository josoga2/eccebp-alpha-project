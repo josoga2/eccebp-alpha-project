{
 "cells": [
  {
   "cell_type": "code",
   "execution_count": 1,
   "metadata": {},
   "outputs": [],
   "source": [
    "import pandas as pd\n",
    "import numpy as np"
   ]
  },
  {
   "cell_type": "code",
   "execution_count": 2,
   "metadata": {},
   "outputs": [],
   "source": [
    "df1 = pd.read_csv(\"probes.csv\", sep=';')"
   ]
  },
  {
   "cell_type": "code",
   "execution_count": 3,
   "metadata": {},
   "outputs": [
    {
     "data": {
      "text/html": [
       "<div>\n",
       "<style scoped>\n",
       "    .dataframe tbody tr th:only-of-type {\n",
       "        vertical-align: middle;\n",
       "    }\n",
       "\n",
       "    .dataframe tbody tr th {\n",
       "        vertical-align: top;\n",
       "    }\n",
       "\n",
       "    .dataframe thead th {\n",
       "        text-align: right;\n",
       "    }\n",
       "</style>\n",
       "<table border=\"1\" class=\"dataframe\">\n",
       "  <thead>\n",
       "    <tr style=\"text-align: right;\">\n",
       "      <th></th>\n",
       "      <th>Num</th>\n",
       "      <th>Hybridization REF</th>\n",
       "      <th>position</th>\n",
       "      <th>gene</th>\n",
       "      <th>chrome</th>\n",
       "      <th>p_vals</th>\n",
       "      <th>mean_cebpa_mut</th>\n",
       "      <th>mean_no_cebpa_mut</th>\n",
       "      <th>mean_cebpa - mean_no_cebpa</th>\n",
       "      <th>site_status</th>\n",
       "      <th>fdr</th>\n",
       "    </tr>\n",
       "  </thead>\n",
       "  <tbody>\n",
       "    <tr>\n",
       "      <th>0</th>\n",
       "      <td>1</td>\n",
       "      <td>cg00000029</td>\n",
       "      <td>53468112</td>\n",
       "      <td>RBL2</td>\n",
       "      <td>16</td>\n",
       "      <td>2.760000e-06</td>\n",
       "      <td>0.734078</td>\n",
       "      <td>0.529800</td>\n",
       "      <td>0.204278</td>\n",
       "      <td>no_peak_site</td>\n",
       "      <td>1.721760e-04</td>\n",
       "    </tr>\n",
       "    <tr>\n",
       "      <th>1</th>\n",
       "      <td>2</td>\n",
       "      <td>cg00000236</td>\n",
       "      <td>42263294</td>\n",
       "      <td>VDAC3</td>\n",
       "      <td>8</td>\n",
       "      <td>5.090000e-14</td>\n",
       "      <td>0.892625</td>\n",
       "      <td>0.767645</td>\n",
       "      <td>0.124981</td>\n",
       "      <td>no_peak_site</td>\n",
       "      <td>5.850000e-11</td>\n",
       "    </tr>\n",
       "    <tr>\n",
       "      <th>2</th>\n",
       "      <td>3</td>\n",
       "      <td>cg00000289</td>\n",
       "      <td>69341139</td>\n",
       "      <td>ACTN1</td>\n",
       "      <td>14</td>\n",
       "      <td>4.850044e-02</td>\n",
       "      <td>0.835965</td>\n",
       "      <td>0.794356</td>\n",
       "      <td>0.041609</td>\n",
       "      <td>no_peak_site</td>\n",
       "      <td>2.426926e-01</td>\n",
       "    </tr>\n",
       "    <tr>\n",
       "      <th>3</th>\n",
       "      <td>4</td>\n",
       "      <td>cg00000292</td>\n",
       "      <td>28890100</td>\n",
       "      <td>ATP2A1</td>\n",
       "      <td>16</td>\n",
       "      <td>1.872712e-02</td>\n",
       "      <td>0.852422</td>\n",
       "      <td>0.806690</td>\n",
       "      <td>0.045732</td>\n",
       "      <td>no_peak_site</td>\n",
       "      <td>1.346666e-01</td>\n",
       "    </tr>\n",
       "    <tr>\n",
       "      <th>4</th>\n",
       "      <td>5</td>\n",
       "      <td>cg00000321</td>\n",
       "      <td>41167802</td>\n",
       "      <td>SFRP1</td>\n",
       "      <td>8</td>\n",
       "      <td>3.752884e-02</td>\n",
       "      <td>0.575149</td>\n",
       "      <td>0.458682</td>\n",
       "      <td>0.116468</td>\n",
       "      <td>no_peak_site</td>\n",
       "      <td>2.086038e-01</td>\n",
       "    </tr>\n",
       "  </tbody>\n",
       "</table>\n",
       "</div>"
      ],
      "text/plain": [
       "   Num Hybridization REF  position    gene chrome        p_vals  \\\n",
       "0    1        cg00000029  53468112    RBL2     16  2.760000e-06   \n",
       "1    2        cg00000236  42263294   VDAC3      8  5.090000e-14   \n",
       "2    3        cg00000289  69341139   ACTN1     14  4.850044e-02   \n",
       "3    4        cg00000292  28890100  ATP2A1     16  1.872712e-02   \n",
       "4    5        cg00000321  41167802   SFRP1      8  3.752884e-02   \n",
       "\n",
       "   mean_cebpa_mut  mean_no_cebpa_mut  mean_cebpa - mean_no_cebpa  \\\n",
       "0        0.734078           0.529800                    0.204278   \n",
       "1        0.892625           0.767645                    0.124981   \n",
       "2        0.835965           0.794356                    0.041609   \n",
       "3        0.852422           0.806690                    0.045732   \n",
       "4        0.575149           0.458682                    0.116468   \n",
       "\n",
       "    site_status           fdr  \n",
       "0  no_peak_site  1.721760e-04  \n",
       "1  no_peak_site  5.850000e-11  \n",
       "2  no_peak_site  2.426926e-01  \n",
       "3  no_peak_site  1.346666e-01  \n",
       "4  no_peak_site  2.086038e-01  "
      ]
     },
     "execution_count": 3,
     "metadata": {},
     "output_type": "execute_result"
    }
   ],
   "source": [
    "df1.head()"
   ]
  },
  {
   "cell_type": "code",
   "execution_count": 4,
   "metadata": {},
   "outputs": [],
   "source": [
    "pos = pd.read_csv(\"poix.csv\")"
   ]
  },
  {
   "cell_type": "code",
   "execution_count": 5,
   "metadata": {
    "scrolled": true
   },
   "outputs": [
    {
     "data": {
      "text/html": [
       "<div>\n",
       "<style scoped>\n",
       "    .dataframe tbody tr th:only-of-type {\n",
       "        vertical-align: middle;\n",
       "    }\n",
       "\n",
       "    .dataframe tbody tr th {\n",
       "        vertical-align: top;\n",
       "    }\n",
       "\n",
       "    .dataframe thead th {\n",
       "        text-align: right;\n",
       "    }\n",
       "</style>\n",
       "<table border=\"1\" class=\"dataframe\">\n",
       "  <thead>\n",
       "    <tr style=\"text-align: right;\">\n",
       "      <th></th>\n",
       "      <th>position</th>\n",
       "      <th>Status</th>\n",
       "    </tr>\n",
       "  </thead>\n",
       "  <tbody>\n",
       "    <tr>\n",
       "      <th>0</th>\n",
       "      <td>58858635</td>\n",
       "      <td>Background</td>\n",
       "    </tr>\n",
       "    <tr>\n",
       "      <th>1</th>\n",
       "      <td>58861702</td>\n",
       "      <td>Background</td>\n",
       "    </tr>\n",
       "    <tr>\n",
       "      <th>2</th>\n",
       "      <td>52645399</td>\n",
       "      <td>Background</td>\n",
       "    </tr>\n",
       "    <tr>\n",
       "      <th>3</th>\n",
       "      <td>7277833</td>\n",
       "      <td>Background</td>\n",
       "    </tr>\n",
       "    <tr>\n",
       "      <th>4</th>\n",
       "      <td>7258022</td>\n",
       "      <td>Background</td>\n",
       "    </tr>\n",
       "  </tbody>\n",
       "</table>\n",
       "</div>"
      ],
      "text/plain": [
       "   position      Status\n",
       "0  58858635  Background\n",
       "1  58861702  Background\n",
       "2  52645399  Background\n",
       "3   7277833  Background\n",
       "4   7258022  Background"
      ]
     },
     "execution_count": 5,
     "metadata": {},
     "output_type": "execute_result"
    }
   ],
   "source": [
    "pos.head()"
   ]
  },
  {
   "cell_type": "code",
   "execution_count": 6,
   "metadata": {},
   "outputs": [
    {
     "data": {
      "text/plain": [
       "(271800, 2)"
      ]
     },
     "execution_count": 6,
     "metadata": {},
     "output_type": "execute_result"
    }
   ],
   "source": [
    "pos.shape"
   ]
  },
  {
   "cell_type": "code",
   "execution_count": 7,
   "metadata": {},
   "outputs": [],
   "source": [
    "pos2 = pos.drop_duplicates()"
   ]
  },
  {
   "cell_type": "code",
   "execution_count": 8,
   "metadata": {},
   "outputs": [
    {
     "data": {
      "text/plain": [
       "(271799, 2)"
      ]
     },
     "execution_count": 8,
     "metadata": {},
     "output_type": "execute_result"
    }
   ],
   "source": [
    "pos2.shape"
   ]
  },
  {
   "cell_type": "code",
   "execution_count": 9,
   "metadata": {
    "scrolled": true
   },
   "outputs": [],
   "source": [
    "ex = df1.merge(pos2, on = 'position', how = 'outer', indicator=True)"
   ]
  },
  {
   "cell_type": "code",
   "execution_count": 10,
   "metadata": {},
   "outputs": [
    {
     "data": {
      "text/html": [
       "<div>\n",
       "<style scoped>\n",
       "    .dataframe tbody tr th:only-of-type {\n",
       "        vertical-align: middle;\n",
       "    }\n",
       "\n",
       "    .dataframe tbody tr th {\n",
       "        vertical-align: top;\n",
       "    }\n",
       "\n",
       "    .dataframe thead th {\n",
       "        text-align: right;\n",
       "    }\n",
       "</style>\n",
       "<table border=\"1\" class=\"dataframe\">\n",
       "  <thead>\n",
       "    <tr style=\"text-align: right;\">\n",
       "      <th></th>\n",
       "      <th>Num</th>\n",
       "      <th>Hybridization REF</th>\n",
       "      <th>position</th>\n",
       "      <th>gene</th>\n",
       "      <th>chrome</th>\n",
       "      <th>p_vals</th>\n",
       "      <th>mean_cebpa_mut</th>\n",
       "      <th>mean_no_cebpa_mut</th>\n",
       "      <th>mean_cebpa - mean_no_cebpa</th>\n",
       "      <th>site_status</th>\n",
       "      <th>fdr</th>\n",
       "      <th>Status</th>\n",
       "      <th>_merge</th>\n",
       "    </tr>\n",
       "  </thead>\n",
       "  <tbody>\n",
       "    <tr>\n",
       "      <th>217855</th>\n",
       "      <td>217681</td>\n",
       "      <td>cg18881778</td>\n",
       "      <td>120241287</td>\n",
       "      <td>CIT</td>\n",
       "      <td>12</td>\n",
       "      <td>0.609243</td>\n",
       "      <td>0.976986</td>\n",
       "      <td>0.977743</td>\n",
       "      <td>-0.000757</td>\n",
       "      <td>no_peak_site</td>\n",
       "      <td>0.811906</td>\n",
       "      <td>Background</td>\n",
       "      <td>both</td>\n",
       "    </tr>\n",
       "    <tr>\n",
       "      <th>24961</th>\n",
       "      <td>24897</td>\n",
       "      <td>cg01921773</td>\n",
       "      <td>75661691</td>\n",
       "      <td>KARS</td>\n",
       "      <td>16</td>\n",
       "      <td>0.177127</td>\n",
       "      <td>0.334227</td>\n",
       "      <td>0.429710</td>\n",
       "      <td>-0.095483</td>\n",
       "      <td>peak_site</td>\n",
       "      <td>0.483823</td>\n",
       "      <td>Background</td>\n",
       "      <td>both</td>\n",
       "    </tr>\n",
       "    <tr>\n",
       "      <th>152479</th>\n",
       "      <td>152281</td>\n",
       "      <td>cg12948116</td>\n",
       "      <td>14518926</td>\n",
       "      <td>ATF7IP</td>\n",
       "      <td>12</td>\n",
       "      <td>0.419418</td>\n",
       "      <td>0.062552</td>\n",
       "      <td>0.056850</td>\n",
       "      <td>0.005702</td>\n",
       "      <td>no_peak_site</td>\n",
       "      <td>0.694729</td>\n",
       "      <td>Background</td>\n",
       "      <td>both</td>\n",
       "    </tr>\n",
       "    <tr>\n",
       "      <th>278454</th>\n",
       "      <td>278353</td>\n",
       "      <td>cg24922090</td>\n",
       "      <td>140751608</td>\n",
       "      <td>PCDHGA4;PCDHGB3;PCDHGA1;PCDHGA5;PCDHGB1;PCDHGA...</td>\n",
       "      <td>5</td>\n",
       "      <td>0.047525</td>\n",
       "      <td>0.841959</td>\n",
       "      <td>0.782016</td>\n",
       "      <td>0.059943</td>\n",
       "      <td>no_peak_site</td>\n",
       "      <td>0.239840</td>\n",
       "      <td>Background</td>\n",
       "      <td>both</td>\n",
       "    </tr>\n",
       "    <tr>\n",
       "      <th>264766</th>\n",
       "      <td>264649</td>\n",
       "      <td>cg23621779</td>\n",
       "      <td>30658957</td>\n",
       "      <td>NRM</td>\n",
       "      <td>6</td>\n",
       "      <td>0.898428</td>\n",
       "      <td>0.119631</td>\n",
       "      <td>0.118802</td>\n",
       "      <td>0.000829</td>\n",
       "      <td>no_peak_site</td>\n",
       "      <td>0.958903</td>\n",
       "      <td>Background</td>\n",
       "      <td>both</td>\n",
       "    </tr>\n",
       "    <tr>\n",
       "      <th>243045</th>\n",
       "      <td>242894</td>\n",
       "      <td>cg21431091</td>\n",
       "      <td>201124025</td>\n",
       "      <td>TMEM9</td>\n",
       "      <td>1</td>\n",
       "      <td>0.003178</td>\n",
       "      <td>0.444184</td>\n",
       "      <td>0.211779</td>\n",
       "      <td>0.232404</td>\n",
       "      <td>no_peak_site</td>\n",
       "      <td>0.040107</td>\n",
       "      <td>hypermethylation</td>\n",
       "      <td>both</td>\n",
       "    </tr>\n",
       "    <tr>\n",
       "      <th>235324</th>\n",
       "      <td>235165</td>\n",
       "      <td>cg20643768</td>\n",
       "      <td>10723095</td>\n",
       "      <td>TMEM14C</td>\n",
       "      <td>6</td>\n",
       "      <td>0.830944</td>\n",
       "      <td>0.033444</td>\n",
       "      <td>0.032987</td>\n",
       "      <td>0.000457</td>\n",
       "      <td>peak_site</td>\n",
       "      <td>0.928144</td>\n",
       "      <td>Background</td>\n",
       "      <td>both</td>\n",
       "    </tr>\n",
       "    <tr>\n",
       "      <th>121262</th>\n",
       "      <td>121071</td>\n",
       "      <td>cg10001172</td>\n",
       "      <td>70229028</td>\n",
       "      <td>DNA2</td>\n",
       "      <td>10</td>\n",
       "      <td>0.720742</td>\n",
       "      <td>0.815934</td>\n",
       "      <td>0.822792</td>\n",
       "      <td>-0.006858</td>\n",
       "      <td>no_peak_site</td>\n",
       "      <td>0.873620</td>\n",
       "      <td>Background</td>\n",
       "      <td>both</td>\n",
       "    </tr>\n",
       "    <tr>\n",
       "      <th>256687</th>\n",
       "      <td>256550</td>\n",
       "      <td>cg22848982</td>\n",
       "      <td>3697631</td>\n",
       "      <td>LRRC47</td>\n",
       "      <td>1</td>\n",
       "      <td>0.882119</td>\n",
       "      <td>0.967732</td>\n",
       "      <td>0.968320</td>\n",
       "      <td>-0.000589</td>\n",
       "      <td>no_peak_site</td>\n",
       "      <td>0.951559</td>\n",
       "      <td>Background</td>\n",
       "      <td>both</td>\n",
       "    </tr>\n",
       "    <tr>\n",
       "      <th>170737</th>\n",
       "      <td>170534</td>\n",
       "      <td>cg14449571</td>\n",
       "      <td>223520861</td>\n",
       "      <td>FARSB</td>\n",
       "      <td>2</td>\n",
       "      <td>0.284819</td>\n",
       "      <td>0.023843</td>\n",
       "      <td>0.018939</td>\n",
       "      <td>0.004904</td>\n",
       "      <td>no_peak_site</td>\n",
       "      <td>0.595273</td>\n",
       "      <td>Background</td>\n",
       "      <td>both</td>\n",
       "    </tr>\n",
       "  </tbody>\n",
       "</table>\n",
       "</div>"
      ],
      "text/plain": [
       "           Num Hybridization REF   position  \\\n",
       "217855  217681        cg18881778  120241287   \n",
       "24961    24897        cg01921773   75661691   \n",
       "152479  152281        cg12948116   14518926   \n",
       "278454  278353        cg24922090  140751608   \n",
       "264766  264649        cg23621779   30658957   \n",
       "243045  242894        cg21431091  201124025   \n",
       "235324  235165        cg20643768   10723095   \n",
       "121262  121071        cg10001172   70229028   \n",
       "256687  256550        cg22848982    3697631   \n",
       "170737  170534        cg14449571  223520861   \n",
       "\n",
       "                                                     gene chrome    p_vals  \\\n",
       "217855                                                CIT     12  0.609243   \n",
       "24961                                                KARS     16  0.177127   \n",
       "152479                                             ATF7IP     12  0.419418   \n",
       "278454  PCDHGA4;PCDHGB3;PCDHGA1;PCDHGA5;PCDHGB1;PCDHGA...      5  0.047525   \n",
       "264766                                                NRM      6  0.898428   \n",
       "243045                                              TMEM9      1  0.003178   \n",
       "235324                                            TMEM14C      6  0.830944   \n",
       "121262                                               DNA2     10  0.720742   \n",
       "256687                                             LRRC47      1  0.882119   \n",
       "170737                                              FARSB      2  0.284819   \n",
       "\n",
       "        mean_cebpa_mut  mean_no_cebpa_mut  mean_cebpa - mean_no_cebpa  \\\n",
       "217855        0.976986           0.977743                   -0.000757   \n",
       "24961         0.334227           0.429710                   -0.095483   \n",
       "152479        0.062552           0.056850                    0.005702   \n",
       "278454        0.841959           0.782016                    0.059943   \n",
       "264766        0.119631           0.118802                    0.000829   \n",
       "243045        0.444184           0.211779                    0.232404   \n",
       "235324        0.033444           0.032987                    0.000457   \n",
       "121262        0.815934           0.822792                   -0.006858   \n",
       "256687        0.967732           0.968320                   -0.000589   \n",
       "170737        0.023843           0.018939                    0.004904   \n",
       "\n",
       "         site_status       fdr            Status _merge  \n",
       "217855  no_peak_site  0.811906        Background   both  \n",
       "24961      peak_site  0.483823        Background   both  \n",
       "152479  no_peak_site  0.694729        Background   both  \n",
       "278454  no_peak_site  0.239840        Background   both  \n",
       "264766  no_peak_site  0.958903        Background   both  \n",
       "243045  no_peak_site  0.040107  hypermethylation   both  \n",
       "235324     peak_site  0.928144        Background   both  \n",
       "121262  no_peak_site  0.873620        Background   both  \n",
       "256687  no_peak_site  0.951559        Background   both  \n",
       "170737  no_peak_site  0.595273        Background   both  "
      ]
     },
     "execution_count": 10,
     "metadata": {},
     "output_type": "execute_result"
    }
   ],
   "source": [
    "ex.sample(10)"
   ]
  },
  {
   "cell_type": "code",
   "execution_count": 11,
   "metadata": {},
   "outputs": [
    {
     "name": "stderr",
     "output_type": "stream",
     "text": [
      "IOPub data rate exceeded.\n",
      "The notebook server will temporarily stop sending output\n",
      "to the client in order to avoid crashing it.\n",
      "To change this limit, set the config variable\n",
      "`--NotebookApp.iopub_data_rate_limit`.\n",
      "\n",
      "Current values:\n",
      "NotebookApp.iopub_data_rate_limit=1000000.0 (bytes/sec)\n",
      "NotebookApp.rate_limit_window=3.0 (secs)\n",
      "\n"
     ]
    }
   ],
   "source": [
    "binding = []\n",
    "for j in list(ex['_merge']):\n",
    "    if j == 'both':\n",
    "        binding.append('binding')\n",
    "    else:\n",
    "        binding.append('no binding')\n",
    "\n",
    "print(binding)\n",
    "\n",
    "ex['binding'] = binding"
   ]
  },
  {
   "cell_type": "code",
   "execution_count": 12,
   "metadata": {},
   "outputs": [
    {
     "data": {
      "text/html": [
       "<div>\n",
       "<style scoped>\n",
       "    .dataframe tbody tr th:only-of-type {\n",
       "        vertical-align: middle;\n",
       "    }\n",
       "\n",
       "    .dataframe tbody tr th {\n",
       "        vertical-align: top;\n",
       "    }\n",
       "\n",
       "    .dataframe thead th {\n",
       "        text-align: right;\n",
       "    }\n",
       "</style>\n",
       "<table border=\"1\" class=\"dataframe\">\n",
       "  <thead>\n",
       "    <tr style=\"text-align: right;\">\n",
       "      <th></th>\n",
       "      <th>Num</th>\n",
       "      <th>Hybridization REF</th>\n",
       "      <th>position</th>\n",
       "      <th>gene</th>\n",
       "      <th>chrome</th>\n",
       "      <th>p_vals</th>\n",
       "      <th>mean_cebpa_mut</th>\n",
       "      <th>mean_no_cebpa_mut</th>\n",
       "      <th>mean_cebpa - mean_no_cebpa</th>\n",
       "      <th>site_status</th>\n",
       "      <th>fdr</th>\n",
       "      <th>Status</th>\n",
       "      <th>_merge</th>\n",
       "      <th>binding</th>\n",
       "    </tr>\n",
       "  </thead>\n",
       "  <tbody>\n",
       "    <tr>\n",
       "      <th>281145</th>\n",
       "      <td>281049</td>\n",
       "      <td>cg25194273</td>\n",
       "      <td>53191387</td>\n",
       "      <td>HNRNPA1L2</td>\n",
       "      <td>13</td>\n",
       "      <td>0.847097</td>\n",
       "      <td>0.038656</td>\n",
       "      <td>0.038930</td>\n",
       "      <td>-0.000274</td>\n",
       "      <td>no_peak_site</td>\n",
       "      <td>0.935944</td>\n",
       "      <td>Background</td>\n",
       "      <td>both</td>\n",
       "      <td>binding</td>\n",
       "    </tr>\n",
       "    <tr>\n",
       "      <th>143366</th>\n",
       "      <td>143164</td>\n",
       "      <td>cg12053004</td>\n",
       "      <td>221057751</td>\n",
       "      <td>HLX</td>\n",
       "      <td>1</td>\n",
       "      <td>0.875288</td>\n",
       "      <td>0.881180</td>\n",
       "      <td>0.882667</td>\n",
       "      <td>-0.001487</td>\n",
       "      <td>no_peak_site</td>\n",
       "      <td>0.948624</td>\n",
       "      <td>Background</td>\n",
       "      <td>both</td>\n",
       "      <td>binding</td>\n",
       "    </tr>\n",
       "    <tr>\n",
       "      <th>39820</th>\n",
       "      <td>39723</td>\n",
       "      <td>cg03081675</td>\n",
       "      <td>154540097</td>\n",
       "      <td>IPCEF1;OPRM1</td>\n",
       "      <td>6</td>\n",
       "      <td>0.010559</td>\n",
       "      <td>0.355093</td>\n",
       "      <td>0.628181</td>\n",
       "      <td>-0.273088</td>\n",
       "      <td>no_peak_site</td>\n",
       "      <td>0.092351</td>\n",
       "      <td>Background</td>\n",
       "      <td>both</td>\n",
       "      <td>binding</td>\n",
       "    </tr>\n",
       "    <tr>\n",
       "      <th>44448</th>\n",
       "      <td>44334</td>\n",
       "      <td>cg03459952</td>\n",
       "      <td>58754990</td>\n",
       "      <td>BCAS3</td>\n",
       "      <td>17</td>\n",
       "      <td>0.868435</td>\n",
       "      <td>0.050308</td>\n",
       "      <td>0.050725</td>\n",
       "      <td>-0.000417</td>\n",
       "      <td>no_peak_site</td>\n",
       "      <td>0.945577</td>\n",
       "      <td>Background</td>\n",
       "      <td>both</td>\n",
       "      <td>binding</td>\n",
       "    </tr>\n",
       "    <tr>\n",
       "      <th>187259</th>\n",
       "      <td>187061</td>\n",
       "      <td>cg15988320</td>\n",
       "      <td>140868422</td>\n",
       "      <td>PCDHGA4;PCDHGC3;PCDHGA12;PCDHGA11;PCDHGA9;PCDH...</td>\n",
       "      <td>5</td>\n",
       "      <td>0.382074</td>\n",
       "      <td>0.390759</td>\n",
       "      <td>0.349449</td>\n",
       "      <td>0.041310</td>\n",
       "      <td>no_peak_site</td>\n",
       "      <td>0.669575</td>\n",
       "      <td>Background</td>\n",
       "      <td>both</td>\n",
       "      <td>binding</td>\n",
       "    </tr>\n",
       "    <tr>\n",
       "      <th>15331</th>\n",
       "      <td>15293</td>\n",
       "      <td>cg01147714</td>\n",
       "      <td>173686002</td>\n",
       "      <td>RAPGEF4</td>\n",
       "      <td>2</td>\n",
       "      <td>0.026185</td>\n",
       "      <td>0.934184</td>\n",
       "      <td>0.917257</td>\n",
       "      <td>0.016927</td>\n",
       "      <td>no_peak_site</td>\n",
       "      <td>0.166831</td>\n",
       "      <td>Background</td>\n",
       "      <td>both</td>\n",
       "      <td>binding</td>\n",
       "    </tr>\n",
       "    <tr>\n",
       "      <th>59117</th>\n",
       "      <td>58979</td>\n",
       "      <td>cg04648747</td>\n",
       "      <td>72233970</td>\n",
       "      <td>TBC1D15</td>\n",
       "      <td>12</td>\n",
       "      <td>0.167426</td>\n",
       "      <td>0.041154</td>\n",
       "      <td>0.036834</td>\n",
       "      <td>0.004319</td>\n",
       "      <td>no_peak_site</td>\n",
       "      <td>0.471231</td>\n",
       "      <td>Background</td>\n",
       "      <td>both</td>\n",
       "      <td>binding</td>\n",
       "    </tr>\n",
       "    <tr>\n",
       "      <th>170880</th>\n",
       "      <td>170677</td>\n",
       "      <td>cg14462307</td>\n",
       "      <td>179267556</td>\n",
       "      <td>C5orf45</td>\n",
       "      <td>5</td>\n",
       "      <td>0.209141</td>\n",
       "      <td>0.986489</td>\n",
       "      <td>0.987424</td>\n",
       "      <td>-0.000935</td>\n",
       "      <td>no_peak_site</td>\n",
       "      <td>0.521977</td>\n",
       "      <td>Background</td>\n",
       "      <td>both</td>\n",
       "      <td>binding</td>\n",
       "    </tr>\n",
       "    <tr>\n",
       "      <th>168895</th>\n",
       "      <td>168695</td>\n",
       "      <td>cg14296767</td>\n",
       "      <td>30227001</td>\n",
       "      <td>HLA-L</td>\n",
       "      <td>6</td>\n",
       "      <td>0.004881</td>\n",
       "      <td>0.864379</td>\n",
       "      <td>0.731173</td>\n",
       "      <td>0.133205</td>\n",
       "      <td>no_peak_site</td>\n",
       "      <td>0.054349</td>\n",
       "      <td>NaN</td>\n",
       "      <td>left_only</td>\n",
       "      <td>no binding</td>\n",
       "    </tr>\n",
       "    <tr>\n",
       "      <th>80258</th>\n",
       "      <td>80089</td>\n",
       "      <td>cg06454464</td>\n",
       "      <td>143427921</td>\n",
       "      <td>TSNARE1</td>\n",
       "      <td>8</td>\n",
       "      <td>0.679410</td>\n",
       "      <td>0.920466</td>\n",
       "      <td>0.924395</td>\n",
       "      <td>-0.003929</td>\n",
       "      <td>no_peak_site</td>\n",
       "      <td>0.851835</td>\n",
       "      <td>Background</td>\n",
       "      <td>both</td>\n",
       "      <td>binding</td>\n",
       "    </tr>\n",
       "  </tbody>\n",
       "</table>\n",
       "</div>"
      ],
      "text/plain": [
       "           Num Hybridization REF   position  \\\n",
       "281145  281049        cg25194273   53191387   \n",
       "143366  143164        cg12053004  221057751   \n",
       "39820    39723        cg03081675  154540097   \n",
       "44448    44334        cg03459952   58754990   \n",
       "187259  187061        cg15988320  140868422   \n",
       "15331    15293        cg01147714  173686002   \n",
       "59117    58979        cg04648747   72233970   \n",
       "170880  170677        cg14462307  179267556   \n",
       "168895  168695        cg14296767   30227001   \n",
       "80258    80089        cg06454464  143427921   \n",
       "\n",
       "                                                     gene chrome    p_vals  \\\n",
       "281145                                          HNRNPA1L2     13  0.847097   \n",
       "143366                                                HLX      1  0.875288   \n",
       "39820                                        IPCEF1;OPRM1      6  0.010559   \n",
       "44448                                               BCAS3     17  0.868435   \n",
       "187259  PCDHGA4;PCDHGC3;PCDHGA12;PCDHGA11;PCDHGA9;PCDH...      5  0.382074   \n",
       "15331                                             RAPGEF4      2  0.026185   \n",
       "59117                                             TBC1D15     12  0.167426   \n",
       "170880                                            C5orf45      5  0.209141   \n",
       "168895                                              HLA-L      6  0.004881   \n",
       "80258                                             TSNARE1      8  0.679410   \n",
       "\n",
       "        mean_cebpa_mut  mean_no_cebpa_mut  mean_cebpa - mean_no_cebpa  \\\n",
       "281145        0.038656           0.038930                   -0.000274   \n",
       "143366        0.881180           0.882667                   -0.001487   \n",
       "39820         0.355093           0.628181                   -0.273088   \n",
       "44448         0.050308           0.050725                   -0.000417   \n",
       "187259        0.390759           0.349449                    0.041310   \n",
       "15331         0.934184           0.917257                    0.016927   \n",
       "59117         0.041154           0.036834                    0.004319   \n",
       "170880        0.986489           0.987424                   -0.000935   \n",
       "168895        0.864379           0.731173                    0.133205   \n",
       "80258         0.920466           0.924395                   -0.003929   \n",
       "\n",
       "         site_status       fdr      Status     _merge     binding  \n",
       "281145  no_peak_site  0.935944  Background       both     binding  \n",
       "143366  no_peak_site  0.948624  Background       both     binding  \n",
       "39820   no_peak_site  0.092351  Background       both     binding  \n",
       "44448   no_peak_site  0.945577  Background       both     binding  \n",
       "187259  no_peak_site  0.669575  Background       both     binding  \n",
       "15331   no_peak_site  0.166831  Background       both     binding  \n",
       "59117   no_peak_site  0.471231  Background       both     binding  \n",
       "170880  no_peak_site  0.521977  Background       both     binding  \n",
       "168895  no_peak_site  0.054349         NaN  left_only  no binding  \n",
       "80258   no_peak_site  0.851835  Background       both     binding  "
      ]
     },
     "execution_count": 12,
     "metadata": {},
     "output_type": "execute_result"
    }
   ],
   "source": [
    "ex.sample(10)"
   ]
  },
  {
   "cell_type": "code",
   "execution_count": 13,
   "metadata": {},
   "outputs": [
    {
     "name": "stderr",
     "output_type": "stream",
     "text": [
      "/home/josoga2/anaconda3/lib/python3.7/site-packages/statsmodels/tools/_testing.py:19: FutureWarning: pandas.util.testing is deprecated. Use the functions in the public API at pandas.testing instead.\n",
      "  import pandas.util.testing as tm\n"
     ]
    }
   ],
   "source": [
    "import seaborn as sns\n",
    "import matplotlib.pyplot as plt\n",
    "%matplotlib inline"
   ]
  },
  {
   "cell_type": "code",
   "execution_count": 14,
   "metadata": {},
   "outputs": [
    {
     "data": {
      "text/plain": [
       "<matplotlib.axes._subplots.AxesSubplot at 0x7f4f2d711d50>"
      ]
     },
     "execution_count": 14,
     "metadata": {},
     "output_type": "execute_result"
    },
    {
     "data": {
      "image/png": "[encoded data removed]",
      "text/plain": [
       "<Figure size 432x288 with 1 Axes>"
      ]
     },
     "metadata": {
      "needs_background": "light"
     },
     "output_type": "display_data"
    }
   ],
   "source": [
    "sns.distplot(ex['mean_cebpa - mean_no_cebpa'])"
   ]
  },
  {
   "cell_type": "code",
   "execution_count": 16,
   "metadata": {},
   "outputs": [],
   "source": [
    "hyp = ex[(ex['mean_cebpa - mean_no_cebpa'] > 0.1) & (ex['fdr']< 0.05)]"
   ]
  },
  {
   "cell_type": "code",
   "execution_count": 17,
   "metadata": {},
   "outputs": [],
   "source": [
    "bkg = ex[(abs(ex['mean_cebpa - mean_no_cebpa']) <= 0.1) & (ex['fdr']>= 0.05)]"
   ]
  },
  {
   "cell_type": "code",
   "execution_count": 18,
   "metadata": {},
   "outputs": [
    {
     "data": {
      "text/html": [
       "<div>\n",
       "<style scoped>\n",
       "    .dataframe tbody tr th:only-of-type {\n",
       "        vertical-align: middle;\n",
       "    }\n",
       "\n",
       "    .dataframe tbody tr th {\n",
       "        vertical-align: top;\n",
       "    }\n",
       "\n",
       "    .dataframe thead th {\n",
       "        text-align: right;\n",
       "    }\n",
       "</style>\n",
       "<table border=\"1\" class=\"dataframe\">\n",
       "  <thead>\n",
       "    <tr style=\"text-align: right;\">\n",
       "      <th></th>\n",
       "      <th>Num</th>\n",
       "      <th>Hybridization REF</th>\n",
       "      <th>position</th>\n",
       "      <th>gene</th>\n",
       "      <th>chrome</th>\n",
       "      <th>p_vals</th>\n",
       "      <th>mean_cebpa_mut</th>\n",
       "      <th>mean_no_cebpa_mut</th>\n",
       "      <th>mean_cebpa - mean_no_cebpa</th>\n",
       "      <th>site_status</th>\n",
       "      <th>fdr</th>\n",
       "      <th>Status</th>\n",
       "      <th>_merge</th>\n",
       "      <th>binding</th>\n",
       "    </tr>\n",
       "  </thead>\n",
       "  <tbody>\n",
       "    <tr>\n",
       "      <th>0</th>\n",
       "      <td>1</td>\n",
       "      <td>cg00000029</td>\n",
       "      <td>53468112</td>\n",
       "      <td>RBL2</td>\n",
       "      <td>16</td>\n",
       "      <td>0.000003</td>\n",
       "      <td>0.734078</td>\n",
       "      <td>0.5298</td>\n",
       "      <td>0.204278</td>\n",
       "      <td>no_peak_site</td>\n",
       "      <td>0.000172</td>\n",
       "      <td>hypermethylation</td>\n",
       "      <td>both</td>\n",
       "      <td>binding</td>\n",
       "    </tr>\n",
       "  </tbody>\n",
       "</table>\n",
       "</div>"
      ],
      "text/plain": [
       "   Num Hybridization REF  position  gene chrome    p_vals  mean_cebpa_mut  \\\n",
       "0    1        cg00000029  53468112  RBL2     16  0.000003        0.734078   \n",
       "\n",
       "   mean_no_cebpa_mut  mean_cebpa - mean_no_cebpa   site_status       fdr  \\\n",
       "0             0.5298                    0.204278  no_peak_site  0.000172   \n",
       "\n",
       "             Status _merge  binding  \n",
       "0  hypermethylation   both  binding  "
      ]
     },
     "execution_count": 18,
     "metadata": {},
     "output_type": "execute_result"
    }
   ],
   "source": [
    "hyp.head(1)"
   ]
  },
  {
   "cell_type": "code",
   "execution_count": 19,
   "metadata": {},
   "outputs": [
    {
     "data": {
      "text/html": [
       "<div>\n",
       "<style scoped>\n",
       "    .dataframe tbody tr th:only-of-type {\n",
       "        vertical-align: middle;\n",
       "    }\n",
       "\n",
       "    .dataframe tbody tr th {\n",
       "        vertical-align: top;\n",
       "    }\n",
       "\n",
       "    .dataframe thead th {\n",
       "        text-align: right;\n",
       "    }\n",
       "</style>\n",
       "<table border=\"1\" class=\"dataframe\">\n",
       "  <thead>\n",
       "    <tr style=\"text-align: right;\">\n",
       "      <th></th>\n",
       "      <th>Num</th>\n",
       "      <th>Hybridization REF</th>\n",
       "      <th>position</th>\n",
       "      <th>gene</th>\n",
       "      <th>chrome</th>\n",
       "      <th>p_vals</th>\n",
       "      <th>mean_cebpa_mut</th>\n",
       "      <th>mean_no_cebpa_mut</th>\n",
       "      <th>mean_cebpa - mean_no_cebpa</th>\n",
       "      <th>site_status</th>\n",
       "      <th>fdr</th>\n",
       "      <th>Status</th>\n",
       "      <th>_merge</th>\n",
       "      <th>binding</th>\n",
       "    </tr>\n",
       "  </thead>\n",
       "  <tbody>\n",
       "    <tr>\n",
       "      <th>2</th>\n",
       "      <td>3</td>\n",
       "      <td>cg00000289</td>\n",
       "      <td>69341139</td>\n",
       "      <td>ACTN1</td>\n",
       "      <td>14</td>\n",
       "      <td>0.0485</td>\n",
       "      <td>0.835965</td>\n",
       "      <td>0.794356</td>\n",
       "      <td>0.041609</td>\n",
       "      <td>no_peak_site</td>\n",
       "      <td>0.242693</td>\n",
       "      <td>Background</td>\n",
       "      <td>both</td>\n",
       "      <td>binding</td>\n",
       "    </tr>\n",
       "  </tbody>\n",
       "</table>\n",
       "</div>"
      ],
      "text/plain": [
       "   Num Hybridization REF  position   gene chrome  p_vals  mean_cebpa_mut  \\\n",
       "2    3        cg00000289  69341139  ACTN1     14  0.0485        0.835965   \n",
       "\n",
       "   mean_no_cebpa_mut  mean_cebpa - mean_no_cebpa   site_status       fdr  \\\n",
       "2           0.794356                    0.041609  no_peak_site  0.242693   \n",
       "\n",
       "       Status _merge  binding  \n",
       "2  Background   both  binding  "
      ]
     },
     "execution_count": 19,
     "metadata": {},
     "output_type": "execute_result"
    }
   ],
   "source": [
    "bkg.head(1)"
   ]
  },
  {
   "cell_type": "code",
   "execution_count": 20,
   "metadata": {},
   "outputs": [
    {
     "name": "stdout",
     "output_type": "stream",
     "text": [
      "(11980, 14)\n",
      "(259870, 14)\n"
     ]
    }
   ],
   "source": [
    "print(hyp.shape)\n",
    "print(bkg.shape)"
   ]
  },
  {
   "cell_type": "code",
   "execution_count": 21,
   "metadata": {},
   "outputs": [],
   "source": [
    "newEx = pd.concat([hyp, bkg])"
   ]
  },
  {
   "cell_type": "code",
   "execution_count": 22,
   "metadata": {},
   "outputs": [
    {
     "data": {
      "text/plain": [
       "(271850, 14)"
      ]
     },
     "execution_count": 22,
     "metadata": {},
     "output_type": "execute_result"
    }
   ],
   "source": [
    "newEx.shape"
   ]
  },
  {
   "cell_type": "code",
   "execution_count": 23,
   "metadata": {},
   "outputs": [
    {
     "data": {
      "text/plain": [
       "(307846, 14)"
      ]
     },
     "execution_count": 23,
     "metadata": {},
     "output_type": "execute_result"
    }
   ],
   "source": [
    "ex.shape"
   ]
  },
  {
   "cell_type": "code",
   "execution_count": 24,
   "metadata": {
    "scrolled": true
   },
   "outputs": [
    {
     "data": {
      "text/plain": [
       "<matplotlib.axes._subplots.AxesSubplot at 0x7f4f45cd1c90>"
      ]
     },
     "execution_count": 24,
     "metadata": {},
     "output_type": "execute_result"
    },
    {
     "data": {
      "image/png": "[encoded data removed]",
      "text/plain": [
       "<Figure size 432x288 with 1 Axes>"
      ]
     },
     "metadata": {
      "needs_background": "light"
     },
     "output_type": "display_data"
    }
   ],
   "source": [
    "sns.countplot(ex['binding'])"
   ]
  },
  {
   "cell_type": "code",
   "execution_count": 25,
   "metadata": {},
   "outputs": [
    {
     "data": {
      "text/plain": [
       "binding       272131\n",
       "no binding     35715\n",
       "Name: binding, dtype: int64"
      ]
     },
     "execution_count": 25,
     "metadata": {},
     "output_type": "execute_result"
    }
   ],
   "source": [
    "ex['binding'].value_counts()"
   ]
  },
  {
   "cell_type": "code",
   "execution_count": null,
   "metadata": {},
   "outputs": [],
   "source": []
  },
  {
   "cell_type": "code",
   "execution_count": 26,
   "metadata": {},
   "outputs": [
    {
     "data": {
      "text/plain": [
       "Text(0.5, 0, 'TDF Prediction')"
      ]
     },
     "execution_count": 26,
     "metadata": {},
     "output_type": "execute_result"
    },
    {
     "data": {
      "image/png": "[encoded data removed]",
      "text/plain": [
       "<Figure size 432x288 with 1 Axes>"
      ]
     },
     "metadata": {
      "needs_background": "light"
     },
     "output_type": "display_data"
    }
   ],
   "source": [
    "sns.boxplot(x = 'binding', y = 'mean_cebpa - mean_no_cebpa', data = ex )\n",
    "plt.ylabel('Methylation score')\n",
    "plt.xlabel('TDF Prediction')"
   ]
  },
  {
   "cell_type": "code",
   "execution_count": 27,
   "metadata": {},
   "outputs": [
    {
     "data": {
      "text/plain": [
       "binding\n",
       "binding       0.001483\n",
       "no binding    0.006552\n",
       "Name: mean_cebpa - mean_no_cebpa, dtype: float64"
      ]
     },
     "execution_count": 27,
     "metadata": {},
     "output_type": "execute_result"
    }
   ],
   "source": [
    "bkg.groupby('binding')['mean_cebpa - mean_no_cebpa'].median()"
   ]
  },
  {
   "cell_type": "code",
   "execution_count": 28,
   "metadata": {},
   "outputs": [
    {
     "data": {
      "text/plain": [
       "binding\n",
       "binding       0.025758\n",
       "no binding    0.008666\n",
       "Name: mean_cebpa - mean_no_cebpa, dtype: float64"
      ]
     },
     "execution_count": 28,
     "metadata": {},
     "output_type": "execute_result"
    }
   ],
   "source": [
    "bkg.groupby('binding')['mean_cebpa - mean_no_cebpa'].std()"
   ]
  },
  {
   "cell_type": "code",
   "execution_count": 48,
   "metadata": {},
   "outputs": [
    {
     "data": {
      "text/plain": [
       "Text(0.5, 0, 'TDF Prediction')"
      ]
     },
     "execution_count": 48,
     "metadata": {},
     "output_type": "execute_result"
    },
    {
     "data": {
      "image/png": "[encoded data removed]",
      "text/plain": [
       "<Figure size 432x288 with 1 Axes>"
      ]
     },
     "metadata": {
      "needs_background": "light"
     },
     "output_type": "display_data"
    }
   ],
   "source": [
    "sns.violinplot(x = 'binding', y = 'mean_cebpa - mean_no_cebpa', data = ex, inner=None, linewidth=0.5)\n",
    "plt.ylabel('DNA Methylation Change')\n",
    "plt.xlabel('TDF Prediction')"
   ]
  },
  {
   "cell_type": "code",
   "execution_count": 31,
   "metadata": {},
   "outputs": [],
   "source": [
    "from scipy import stats\n",
    "\n",
    "np.random.seed(101)\n",
    "\n",
    "binding = ex.groupby('binding').get_group('binding')\n",
    "\n",
    "noBinding = ex.groupby('binding').get_group('no binding')\n",
    "\n"
   ]
  },
  {
   "cell_type": "code",
   "execution_count": 32,
   "metadata": {},
   "outputs": [
    {
     "data": {
      "text/html": [
       "<div>\n",
       "<style scoped>\n",
       "    .dataframe tbody tr th:only-of-type {\n",
       "        vertical-align: middle;\n",
       "    }\n",
       "\n",
       "    .dataframe tbody tr th {\n",
       "        vertical-align: top;\n",
       "    }\n",
       "\n",
       "    .dataframe thead th {\n",
       "        text-align: right;\n",
       "    }\n",
       "</style>\n",
       "<table border=\"1\" class=\"dataframe\">\n",
       "  <thead>\n",
       "    <tr style=\"text-align: right;\">\n",
       "      <th></th>\n",
       "      <th>Num</th>\n",
       "      <th>Hybridization REF</th>\n",
       "      <th>position</th>\n",
       "      <th>gene</th>\n",
       "      <th>chrome</th>\n",
       "      <th>p_vals</th>\n",
       "      <th>mean_cebpa_mut</th>\n",
       "      <th>mean_no_cebpa_mut</th>\n",
       "      <th>mean_cebpa - mean_no_cebpa</th>\n",
       "      <th>site_status</th>\n",
       "      <th>fdr</th>\n",
       "      <th>Status</th>\n",
       "      <th>_merge</th>\n",
       "      <th>binding</th>\n",
       "    </tr>\n",
       "  </thead>\n",
       "  <tbody>\n",
       "    <tr>\n",
       "      <th>0</th>\n",
       "      <td>1</td>\n",
       "      <td>cg00000029</td>\n",
       "      <td>53468112</td>\n",
       "      <td>RBL2</td>\n",
       "      <td>16</td>\n",
       "      <td>2.760000e-06</td>\n",
       "      <td>0.734078</td>\n",
       "      <td>0.529800</td>\n",
       "      <td>0.204278</td>\n",
       "      <td>no_peak_site</td>\n",
       "      <td>1.721760e-04</td>\n",
       "      <td>hypermethylation</td>\n",
       "      <td>both</td>\n",
       "      <td>binding</td>\n",
       "    </tr>\n",
       "    <tr>\n",
       "      <th>1</th>\n",
       "      <td>2</td>\n",
       "      <td>cg00000236</td>\n",
       "      <td>42263294</td>\n",
       "      <td>VDAC3</td>\n",
       "      <td>8</td>\n",
       "      <td>5.090000e-14</td>\n",
       "      <td>0.892625</td>\n",
       "      <td>0.767645</td>\n",
       "      <td>0.124981</td>\n",
       "      <td>no_peak_site</td>\n",
       "      <td>5.850000e-11</td>\n",
       "      <td>hypermethylation</td>\n",
       "      <td>both</td>\n",
       "      <td>binding</td>\n",
       "    </tr>\n",
       "    <tr>\n",
       "      <th>2</th>\n",
       "      <td>3</td>\n",
       "      <td>cg00000289</td>\n",
       "      <td>69341139</td>\n",
       "      <td>ACTN1</td>\n",
       "      <td>14</td>\n",
       "      <td>4.850044e-02</td>\n",
       "      <td>0.835965</td>\n",
       "      <td>0.794356</td>\n",
       "      <td>0.041609</td>\n",
       "      <td>no_peak_site</td>\n",
       "      <td>2.426926e-01</td>\n",
       "      <td>Background</td>\n",
       "      <td>both</td>\n",
       "      <td>binding</td>\n",
       "    </tr>\n",
       "    <tr>\n",
       "      <th>3</th>\n",
       "      <td>4</td>\n",
       "      <td>cg00000292</td>\n",
       "      <td>28890100</td>\n",
       "      <td>ATP2A1</td>\n",
       "      <td>16</td>\n",
       "      <td>1.872712e-02</td>\n",
       "      <td>0.852422</td>\n",
       "      <td>0.806690</td>\n",
       "      <td>0.045732</td>\n",
       "      <td>no_peak_site</td>\n",
       "      <td>1.346666e-01</td>\n",
       "      <td>Background</td>\n",
       "      <td>both</td>\n",
       "      <td>binding</td>\n",
       "    </tr>\n",
       "    <tr>\n",
       "      <th>5</th>\n",
       "      <td>6</td>\n",
       "      <td>cg00000622</td>\n",
       "      <td>23034447</td>\n",
       "      <td>NIPA2</td>\n",
       "      <td>15</td>\n",
       "      <td>5.938082e-02</td>\n",
       "      <td>0.012119</td>\n",
       "      <td>0.011318</td>\n",
       "      <td>0.000801</td>\n",
       "      <td>peak_site</td>\n",
       "      <td>2.734426e-01</td>\n",
       "      <td>Background</td>\n",
       "      <td>both</td>\n",
       "      <td>binding</td>\n",
       "    </tr>\n",
       "  </tbody>\n",
       "</table>\n",
       "</div>"
      ],
      "text/plain": [
       "   Num Hybridization REF  position    gene chrome        p_vals  \\\n",
       "0    1        cg00000029  53468112    RBL2     16  2.760000e-06   \n",
       "1    2        cg00000236  42263294   VDAC3      8  5.090000e-14   \n",
       "2    3        cg00000289  69341139   ACTN1     14  4.850044e-02   \n",
       "3    4        cg00000292  28890100  ATP2A1     16  1.872712e-02   \n",
       "5    6        cg00000622  23034447   NIPA2     15  5.938082e-02   \n",
       "\n",
       "   mean_cebpa_mut  mean_no_cebpa_mut  mean_cebpa - mean_no_cebpa  \\\n",
       "0        0.734078           0.529800                    0.204278   \n",
       "1        0.892625           0.767645                    0.124981   \n",
       "2        0.835965           0.794356                    0.041609   \n",
       "3        0.852422           0.806690                    0.045732   \n",
       "5        0.012119           0.011318                    0.000801   \n",
       "\n",
       "    site_status           fdr            Status _merge  binding  \n",
       "0  no_peak_site  1.721760e-04  hypermethylation   both  binding  \n",
       "1  no_peak_site  5.850000e-11  hypermethylation   both  binding  \n",
       "2  no_peak_site  2.426926e-01        Background   both  binding  \n",
       "3  no_peak_site  1.346666e-01        Background   both  binding  \n",
       "5     peak_site  2.734426e-01        Background   both  binding  "
      ]
     },
     "execution_count": 32,
     "metadata": {},
     "output_type": "execute_result"
    }
   ],
   "source": [
    "binding.head()"
   ]
  },
  {
   "cell_type": "code",
   "execution_count": 33,
   "metadata": {
    "scrolled": true
   },
   "outputs": [
    {
     "data": {
      "text/plain": [
       "Ttest_indResult(statistic=-168.0090771128, pvalue=0.0)"
      ]
     },
     "execution_count": 33,
     "metadata": {},
     "output_type": "execute_result"
    }
   ],
   "source": [
    "stats.ttest_ind(binding['mean_cebpa - mean_no_cebpa'], \n",
    "                noBinding['mean_cebpa - mean_no_cebpa'], equal_var=False)"
   ]
  },
  {
   "cell_type": "code",
   "execution_count": 34,
   "metadata": {},
   "outputs": [
    {
     "data": {
      "text/plain": [
       "Ttest_indResult(statistic=524.4400597304391, pvalue=0.0)"
      ]
     },
     "execution_count": 34,
     "metadata": {},
     "output_type": "execute_result"
    }
   ],
   "source": [
    "stats.ttest_ind(binding['fdr'], \n",
    "                noBinding['fdr'], equal_var=False)"
   ]
  },
  {
   "cell_type": "code",
   "execution_count": 35,
   "metadata": {},
   "outputs": [],
   "source": [
    "#from scipy.stats import wilcoxon\n",
    "from scipy.stats import mannwhitneyu"
   ]
  },
  {
   "cell_type": "code",
   "execution_count": 36,
   "metadata": {},
   "outputs": [
    {
     "data": {
      "text/plain": [
       "MannwhitneyuResult(statistic=1503651105.0, pvalue=0.0)"
      ]
     },
     "execution_count": 36,
     "metadata": {},
     "output_type": "execute_result"
    }
   ],
   "source": [
    "mannwhitneyu(binding['mean_cebpa - mean_no_cebpa'], \n",
    "                noBinding['mean_cebpa - mean_no_cebpa'])"
   ]
  },
  {
   "cell_type": "code",
   "execution_count": 37,
   "metadata": {},
   "outputs": [],
   "source": [
    "binding.to_csv('binding.csv', sep=',', header=True, index=False)"
   ]
  },
  {
   "cell_type": "code",
   "execution_count": 38,
   "metadata": {},
   "outputs": [],
   "source": [
    "noBinding.to_csv('noBinding.csv', sep=',', header=True, index=False)"
   ]
  },
  {
   "cell_type": "code",
   "execution_count": null,
   "metadata": {},
   "outputs": [],
   "source": []
  },
  {
   "cell_type": "markdown",
   "metadata": {},
   "source": [
    "## BED Exports"
   ]
  },
  {
   "cell_type": "code",
   "execution_count": 39,
   "metadata": {},
   "outputs": [
    {
     "data": {
      "text/html": [
       "<div>\n",
       "<style scoped>\n",
       "    .dataframe tbody tr th:only-of-type {\n",
       "        vertical-align: middle;\n",
       "    }\n",
       "\n",
       "    .dataframe tbody tr th {\n",
       "        vertical-align: top;\n",
       "    }\n",
       "\n",
       "    .dataframe thead th {\n",
       "        text-align: right;\n",
       "    }\n",
       "</style>\n",
       "<table border=\"1\" class=\"dataframe\">\n",
       "  <thead>\n",
       "    <tr style=\"text-align: right;\">\n",
       "      <th></th>\n",
       "      <th>Num</th>\n",
       "      <th>Hybridization REF</th>\n",
       "      <th>position</th>\n",
       "      <th>gene</th>\n",
       "      <th>chrome</th>\n",
       "      <th>p_vals</th>\n",
       "      <th>mean_cebpa_mut</th>\n",
       "      <th>mean_no_cebpa_mut</th>\n",
       "      <th>mean_cebpa - mean_no_cebpa</th>\n",
       "      <th>site_status</th>\n",
       "      <th>fdr</th>\n",
       "      <th>Status</th>\n",
       "      <th>_merge</th>\n",
       "      <th>binding</th>\n",
       "    </tr>\n",
       "  </thead>\n",
       "  <tbody>\n",
       "  </tbody>\n",
       "</table>\n",
       "</div>"
      ],
      "text/plain": [
       "Empty DataFrame\n",
       "Columns: [Num, Hybridization REF, position, gene, chrome, p_vals, mean_cebpa_mut, mean_no_cebpa_mut, mean_cebpa - mean_no_cebpa, site_status, fdr, Status, _merge, binding]\n",
       "Index: []"
      ]
     },
     "execution_count": 39,
     "metadata": {},
     "output_type": "execute_result"
    }
   ],
   "source": [
    "binding.head(0)"
   ]
  },
  {
   "cell_type": "code",
   "execution_count": 40,
   "metadata": {},
   "outputs": [
    {
     "name": "stderr",
     "output_type": "stream",
     "text": [
      "/home/josoga2/anaconda3/lib/python3.7/site-packages/ipykernel_launcher.py:2: SettingWithCopyWarning: \n",
      "A value is trying to be set on a copy of a slice from a DataFrame.\n",
      "Try using .loc[row_indexer,col_indexer] = value instead\n",
      "\n",
      "See the caveats in the documentation: https://pandas.pydata.org/pandas-docs/stable/user_guide/indexing.html#returning-a-view-versus-a-copy\n",
      "  \n",
      "/home/josoga2/anaconda3/lib/python3.7/site-packages/ipykernel_launcher.py:3: SettingWithCopyWarning: \n",
      "A value is trying to be set on a copy of a slice from a DataFrame.\n",
      "Try using .loc[row_indexer,col_indexer] = value instead\n",
      "\n",
      "See the caveats in the documentation: https://pandas.pydata.org/pandas-docs/stable/user_guide/indexing.html#returning-a-view-versus-a-copy\n",
      "  This is separate from the ipykernel package so we can avoid doing imports until\n"
     ]
    },
    {
     "data": {
      "text/html": [
       "<div>\n",
       "<style scoped>\n",
       "    .dataframe tbody tr th:only-of-type {\n",
       "        vertical-align: middle;\n",
       "    }\n",
       "\n",
       "    .dataframe tbody tr th {\n",
       "        vertical-align: top;\n",
       "    }\n",
       "\n",
       "    .dataframe thead th {\n",
       "        text-align: right;\n",
       "    }\n",
       "</style>\n",
       "<table border=\"1\" class=\"dataframe\">\n",
       "  <thead>\n",
       "    <tr style=\"text-align: right;\">\n",
       "      <th></th>\n",
       "      <th>chrome</th>\n",
       "      <th>start</th>\n",
       "      <th>end</th>\n",
       "      <th>gene</th>\n",
       "    </tr>\n",
       "  </thead>\n",
       "  <tbody>\n",
       "    <tr>\n",
       "      <th>0</th>\n",
       "      <td>16</td>\n",
       "      <td>53468062</td>\n",
       "      <td>53468162</td>\n",
       "      <td>RBL2</td>\n",
       "    </tr>\n",
       "    <tr>\n",
       "      <th>1</th>\n",
       "      <td>8</td>\n",
       "      <td>42263244</td>\n",
       "      <td>42263344</td>\n",
       "      <td>VDAC3</td>\n",
       "    </tr>\n",
       "    <tr>\n",
       "      <th>2</th>\n",
       "      <td>14</td>\n",
       "      <td>69341089</td>\n",
       "      <td>69341189</td>\n",
       "      <td>ACTN1</td>\n",
       "    </tr>\n",
       "    <tr>\n",
       "      <th>3</th>\n",
       "      <td>16</td>\n",
       "      <td>28890050</td>\n",
       "      <td>28890150</td>\n",
       "      <td>ATP2A1</td>\n",
       "    </tr>\n",
       "    <tr>\n",
       "      <th>5</th>\n",
       "      <td>15</td>\n",
       "      <td>23034397</td>\n",
       "      <td>23034497</td>\n",
       "      <td>NIPA2</td>\n",
       "    </tr>\n",
       "  </tbody>\n",
       "</table>\n",
       "</div>"
      ],
      "text/plain": [
       "  chrome     start       end    gene\n",
       "0     16  53468062  53468162    RBL2\n",
       "1      8  42263244  42263344   VDAC3\n",
       "2     14  69341089  69341189   ACTN1\n",
       "3     16  28890050  28890150  ATP2A1\n",
       "5     15  23034397  23034497   NIPA2"
      ]
     },
     "execution_count": 40,
     "metadata": {},
     "output_type": "execute_result"
    }
   ],
   "source": [
    "bindingBed = binding[['chrome', 'position', 'gene']]\n",
    "bindingBed['start'] = bindingBed['position'] - 50\n",
    "bindingBed['end'] = bindingBed['position'] + 50\n",
    "bindingBed = bindingBed[['chrome', 'start', 'end', 'gene']]\n",
    "bindingBed.head()"
   ]
  },
  {
   "cell_type": "code",
   "execution_count": 41,
   "metadata": {},
   "outputs": [
    {
     "name": "stderr",
     "output_type": "stream",
     "text": [
      "/home/josoga2/anaconda3/lib/python3.7/site-packages/ipykernel_launcher.py:2: SettingWithCopyWarning: \n",
      "A value is trying to be set on a copy of a slice from a DataFrame.\n",
      "Try using .loc[row_indexer,col_indexer] = value instead\n",
      "\n",
      "See the caveats in the documentation: https://pandas.pydata.org/pandas-docs/stable/user_guide/indexing.html#returning-a-view-versus-a-copy\n",
      "  \n",
      "/home/josoga2/anaconda3/lib/python3.7/site-packages/ipykernel_launcher.py:3: SettingWithCopyWarning: \n",
      "A value is trying to be set on a copy of a slice from a DataFrame.\n",
      "Try using .loc[row_indexer,col_indexer] = value instead\n",
      "\n",
      "See the caveats in the documentation: https://pandas.pydata.org/pandas-docs/stable/user_guide/indexing.html#returning-a-view-versus-a-copy\n",
      "  This is separate from the ipykernel package so we can avoid doing imports until\n"
     ]
    },
    {
     "data": {
      "text/html": [
       "<div>\n",
       "<style scoped>\n",
       "    .dataframe tbody tr th:only-of-type {\n",
       "        vertical-align: middle;\n",
       "    }\n",
       "\n",
       "    .dataframe tbody tr th {\n",
       "        vertical-align: top;\n",
       "    }\n",
       "\n",
       "    .dataframe thead th {\n",
       "        text-align: right;\n",
       "    }\n",
       "</style>\n",
       "<table border=\"1\" class=\"dataframe\">\n",
       "  <thead>\n",
       "    <tr style=\"text-align: right;\">\n",
       "      <th></th>\n",
       "      <th>chrome</th>\n",
       "      <th>start</th>\n",
       "      <th>end</th>\n",
       "      <th>gene</th>\n",
       "    </tr>\n",
       "  </thead>\n",
       "  <tbody>\n",
       "    <tr>\n",
       "      <th>4</th>\n",
       "      <td>8</td>\n",
       "      <td>41167752</td>\n",
       "      <td>41167852</td>\n",
       "      <td>SFRP1</td>\n",
       "    </tr>\n",
       "    <tr>\n",
       "      <th>24</th>\n",
       "      <td>16</td>\n",
       "      <td>47008441</td>\n",
       "      <td>47008541</td>\n",
       "      <td>DNAJA2</td>\n",
       "    </tr>\n",
       "    <tr>\n",
       "      <th>26</th>\n",
       "      <td>19</td>\n",
       "      <td>39798431</td>\n",
       "      <td>39798531</td>\n",
       "      <td>LRFN1</td>\n",
       "    </tr>\n",
       "    <tr>\n",
       "      <th>29</th>\n",
       "      <td>8</td>\n",
       "      <td>144120349</td>\n",
       "      <td>144120449</td>\n",
       "      <td>C8orf31</td>\n",
       "    </tr>\n",
       "    <tr>\n",
       "      <th>45</th>\n",
       "      <td>1</td>\n",
       "      <td>57888657</td>\n",
       "      <td>57888757</td>\n",
       "      <td>DAB1</td>\n",
       "    </tr>\n",
       "  </tbody>\n",
       "</table>\n",
       "</div>"
      ],
      "text/plain": [
       "   chrome      start        end     gene\n",
       "4       8   41167752   41167852    SFRP1\n",
       "24     16   47008441   47008541   DNAJA2\n",
       "26     19   39798431   39798531    LRFN1\n",
       "29      8  144120349  144120449  C8orf31\n",
       "45      1   57888657   57888757     DAB1"
      ]
     },
     "execution_count": 41,
     "metadata": {},
     "output_type": "execute_result"
    }
   ],
   "source": [
    "nobindingBed = noBinding[['chrome', 'position', 'gene']]\n",
    "nobindingBed['start'] = nobindingBed['position'] - 50\n",
    "nobindingBed['end'] = nobindingBed['position'] + 50\n",
    "nobindingBed = nobindingBed[['chrome', 'start', 'end', 'gene']]\n",
    "nobindingBed.head()"
   ]
  },
  {
   "cell_type": "code",
   "execution_count": 42,
   "metadata": {},
   "outputs": [],
   "source": [
    "bindingBed['chrome'] = 'chr' + bindingBed.chrome.map(str)\n",
    "nobindingBed['chrome'] = 'chr' + nobindingBed.chrome.map(str)"
   ]
  },
  {
   "cell_type": "code",
   "execution_count": 43,
   "metadata": {},
   "outputs": [
    {
     "data": {
      "text/html": [
       "<div>\n",
       "<style scoped>\n",
       "    .dataframe tbody tr th:only-of-type {\n",
       "        vertical-align: middle;\n",
       "    }\n",
       "\n",
       "    .dataframe tbody tr th {\n",
       "        vertical-align: top;\n",
       "    }\n",
       "\n",
       "    .dataframe thead th {\n",
       "        text-align: right;\n",
       "    }\n",
       "</style>\n",
       "<table border=\"1\" class=\"dataframe\">\n",
       "  <thead>\n",
       "    <tr style=\"text-align: right;\">\n",
       "      <th></th>\n",
       "      <th>chrome</th>\n",
       "      <th>start</th>\n",
       "      <th>end</th>\n",
       "      <th>gene</th>\n",
       "    </tr>\n",
       "  </thead>\n",
       "  <tbody>\n",
       "    <tr>\n",
       "      <th>0</th>\n",
       "      <td>chr16</td>\n",
       "      <td>53468062</td>\n",
       "      <td>53468162</td>\n",
       "      <td>RBL2</td>\n",
       "    </tr>\n",
       "  </tbody>\n",
       "</table>\n",
       "</div>"
      ],
      "text/plain": [
       "  chrome     start       end  gene\n",
       "0  chr16  53468062  53468162  RBL2"
      ]
     },
     "execution_count": 43,
     "metadata": {},
     "output_type": "execute_result"
    }
   ],
   "source": [
    "bindingBed.head(1)"
   ]
  },
  {
   "cell_type": "code",
   "execution_count": 44,
   "metadata": {},
   "outputs": [],
   "source": [
    "bindingBed.to_csv('bindingBed.bed', sep='\\t', index=None, header=None )"
   ]
  },
  {
   "cell_type": "code",
   "execution_count": 45,
   "metadata": {},
   "outputs": [],
   "source": [
    "nobindingBed.to_csv('nobindingBed.bed', sep='\\t', index=None, header=None )"
   ]
  },
  {
   "cell_type": "code",
   "execution_count": null,
   "metadata": {},
   "outputs": [],
   "source": []
  }
 ],
 "metadata": {
  "kernelspec": {
   "display_name": "Python 3",
   "language": "python",
   "name": "python3"
  },
  "language_info": {
   "codemirror_mode": {
    "name": "ipython",
    "version": 3
   },
   "file_extension": ".py",
   "mimetype": "text/x-python",
   "name": "python",
   "nbconvert_exporter": "python",
   "pygments_lexer": "ipython3",
   "version": "3.7.4"
  }
 },
 "nbformat": 4,
 "nbformat_minor": 2
}
