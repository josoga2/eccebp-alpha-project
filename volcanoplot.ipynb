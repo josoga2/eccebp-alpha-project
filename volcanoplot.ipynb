{
  "nbformat": 4,
  "nbformat_minor": 0,
  "metadata": {
    "colab": {
      "name": "volcanoplot",
      "provenance": [],
      "toc_visible": true
    },
    "kernelspec": {
      "name": "python3",
      "display_name": "Python 3"
    }
  },
  "cells": [
    {
      "cell_type": "markdown",
      "metadata": {
        "id": "twkyqmtorzXJ"
      },
      "source": [
        "# Installs"
      ]
    },
    {
      "cell_type": "code",
      "metadata": {
        "id": "WMIqG5B3rdMS",
        "outputId": "d7403b91-d5a3-48b2-fc9d-6f8f361dd69b",
        "colab": {
          "base_uri": "https://localhost:8080/"
        }
      },
      "source": [
        "!pip install bioinfokit"
      ],
      "execution_count": null,
      "outputs": [
        {
          "output_type": "stream",
          "text": [
            "Collecting bioinfokit\n",
            "\u001b[?25l  Downloading https://files.pythonhosted.org/packages/04/81/8d6c775e60d924ca9069a9fb966517e2740b66031c720bfb3b38729578ec/bioinfokit-1.0.3.tar.gz (74kB)\n",
            "\r\u001b[K     |████▍                           | 10kB 15.4MB/s eta 0:00:01\r\u001b[K     |████████▉                       | 20kB 12.2MB/s eta 0:00:01\r\u001b[K     |█████████████▏                  | 30kB 7.7MB/s eta 0:00:01\r\u001b[K     |█████████████████▋              | 40kB 7.3MB/s eta 0:00:01\r\u001b[K     |██████████████████████          | 51kB 4.3MB/s eta 0:00:01\r\u001b[K     |██████████████████████████▍     | 61kB 4.6MB/s eta 0:00:01\r\u001b[K     |██████████████████████████████▉ | 71kB 4.9MB/s eta 0:00:01\r\u001b[K     |████████████████████████████████| 81kB 3.5MB/s \n",
            "\u001b[?25hRequirement already satisfied: pandas in /usr/local/lib/python3.6/dist-packages (from bioinfokit) (1.1.4)\n",
            "Requirement already satisfied: numpy in /usr/local/lib/python3.6/dist-packages (from bioinfokit) (1.18.5)\n",
            "Requirement already satisfied: matplotlib in /usr/local/lib/python3.6/dist-packages (from bioinfokit) (3.2.2)\n",
            "Requirement already satisfied: scipy in /usr/local/lib/python3.6/dist-packages (from bioinfokit) (1.4.1)\n",
            "Requirement already satisfied: scikit-learn in /usr/local/lib/python3.6/dist-packages (from bioinfokit) (0.22.2.post1)\n",
            "Requirement already satisfied: seaborn in /usr/local/lib/python3.6/dist-packages (from bioinfokit) (0.11.0)\n",
            "Requirement already satisfied: matplotlib_venn in /usr/local/lib/python3.6/dist-packages (from bioinfokit) (0.11.6)\n",
            "Requirement already satisfied: tabulate in /usr/local/lib/python3.6/dist-packages (from bioinfokit) (0.8.7)\n",
            "Requirement already satisfied: statsmodels in /usr/local/lib/python3.6/dist-packages (from bioinfokit) (0.10.2)\n",
            "Collecting textwrap3\n",
            "  Downloading https://files.pythonhosted.org/packages/77/9c/a53e561d496ee5866bbeea4d3a850b3b545ed854f8a21007c1e0d872e94d/textwrap3-0.9.2-py2.py3-none-any.whl\n",
            "Collecting adjustText\n",
            "  Downloading https://files.pythonhosted.org/packages/9e/15/4157718bf323fd5f5b81c891c660d0f388e042d2689a558bf1389632dc44/adjustText-0.7.3.tar.gz\n",
            "Requirement already satisfied: pytz>=2017.2 in /usr/local/lib/python3.6/dist-packages (from pandas->bioinfokit) (2018.9)\n",
            "Requirement already satisfied: python-dateutil>=2.7.3 in /usr/local/lib/python3.6/dist-packages (from pandas->bioinfokit) (2.8.1)\n",
            "Requirement already satisfied: kiwisolver>=1.0.1 in /usr/local/lib/python3.6/dist-packages (from matplotlib->bioinfokit) (1.3.1)\n",
            "Requirement already satisfied: cycler>=0.10 in /usr/local/lib/python3.6/dist-packages (from matplotlib->bioinfokit) (0.10.0)\n",
            "Requirement already satisfied: pyparsing!=2.0.4,!=2.1.2,!=2.1.6,>=2.0.1 in /usr/local/lib/python3.6/dist-packages (from matplotlib->bioinfokit) (2.4.7)\n",
            "Requirement already satisfied: joblib>=0.11 in /usr/local/lib/python3.6/dist-packages (from scikit-learn->bioinfokit) (0.17.0)\n",
            "Requirement already satisfied: patsy>=0.4.0 in /usr/local/lib/python3.6/dist-packages (from statsmodels->bioinfokit) (0.5.1)\n",
            "Requirement already satisfied: six>=1.5 in /usr/local/lib/python3.6/dist-packages (from python-dateutil>=2.7.3->pandas->bioinfokit) (1.15.0)\n",
            "Building wheels for collected packages: bioinfokit, adjustText\n",
            "  Building wheel for bioinfokit (setup.py) ... \u001b[?25l\u001b[?25hdone\n",
            "  Created wheel for bioinfokit: filename=bioinfokit-1.0.3-cp36-none-any.whl size=53154 sha256=5b382c0fd1f689daf6805a1dc52c483f015187ef8ab611dbcacda103e6fc1fb6\n",
            "  Stored in directory: /root/.cache/pip/wheels/33/d9/cf/d9ffa70018b3517956075001cf614bb98c885d8530b96c9f2c\n",
            "  Building wheel for adjustText (setup.py) ... \u001b[?25l\u001b[?25hdone\n",
            "  Created wheel for adjustText: filename=adjustText-0.7.3-cp36-none-any.whl size=7099 sha256=774c1b345382741ac87a1158a557c3aa058302b5d89f212aa40633a89c6da50c\n",
            "  Stored in directory: /root/.cache/pip/wheels/41/95/74/7d347e136d672f8bc28e937032bc92baf4f80856763a7e7b72\n",
            "Successfully built bioinfokit adjustText\n",
            "Installing collected packages: textwrap3, adjustText, bioinfokit\n",
            "Successfully installed adjustText-0.7.3 bioinfokit-1.0.3 textwrap3-0.9.2\n"
          ],
          "name": "stdout"
        }
      ]
    },
    {
      "cell_type": "code",
      "metadata": {
        "id": "w-SOtmcjrwSC"
      },
      "source": [
        "import bioinfokit\n",
        "import pandas as pd\n",
        "import numpy as np\n",
        "import seaborn as sns"
      ],
      "execution_count": null,
      "outputs": []
    },
    {
      "cell_type": "code",
      "metadata": {
        "id": "WEXpnhG-tgRC",
        "outputId": "f595a3d6-9440-4ff6-ff91-fd0ac97a2abe",
        "colab": {
          "base_uri": "https://localhost:8080/"
        }
      },
      "source": [
        "from bioinfokit import analys, visuz"
      ],
      "execution_count": null,
      "outputs": [
        {
          "output_type": "stream",
          "text": [
            "/usr/local/lib/python3.6/dist-packages/statsmodels/tools/_testing.py:19: FutureWarning: pandas.util.testing is deprecated. Use the functions in the public API at pandas.testing instead.\n",
            "  import pandas.util.testing as tm\n"
          ],
          "name": "stderr"
        }
      ]
    },
    {
      "cell_type": "code",
      "metadata": {
        "id": "4LadKUjFsBZK",
        "outputId": "fd3af07e-061e-42fe-abca-af8d082064a9",
        "colab": {
          "base_uri": "https://localhost:8080/",
          "height": 35
        }
      },
      "source": [
        "bioinfokit.__version__"
      ],
      "execution_count": null,
      "outputs": [
        {
          "output_type": "execute_result",
          "data": {
            "application/vnd.google.colaboratory.intrinsic+json": {
              "type": "string"
            },
            "text/plain": [
              "'1.0.3'"
            ]
          },
          "metadata": {
            "tags": []
          },
          "execution_count": 3
        }
      ]
    },
    {
      "cell_type": "markdown",
      "metadata": {
        "id": "41LOsm7Cshg8"
      },
      "source": [
        "# Import"
      ]
    },
    {
      "cell_type": "code",
      "metadata": {
        "id": "TWETE_XFsI4D"
      },
      "source": [
        "df = pd.read_csv('probes.csv',sep=';', index_col='Num')"
      ],
      "execution_count": null,
      "outputs": []
    },
    {
      "cell_type": "code",
      "metadata": {
        "id": "Apok50AIsrzb",
        "outputId": "5c3fc103-f264-4526-f3b6-9e19c62f2b58",
        "colab": {
          "base_uri": "https://localhost:8080/",
          "height": 357
        }
      },
      "source": [
        "df.head()"
      ],
      "execution_count": null,
      "outputs": [
        {
          "output_type": "execute_result",
          "data": {
            "text/html": [
              "<div>\n",
              "<style scoped>\n",
              "    .dataframe tbody tr th:only-of-type {\n",
              "        vertical-align: middle;\n",
              "    }\n",
              "\n",
              "    .dataframe tbody tr th {\n",
              "        vertical-align: top;\n",
              "    }\n",
              "\n",
              "    .dataframe thead th {\n",
              "        text-align: right;\n",
              "    }\n",
              "</style>\n",
              "<table border=\"1\" class=\"dataframe\">\n",
              "  <thead>\n",
              "    <tr style=\"text-align: right;\">\n",
              "      <th></th>\n",
              "      <th>Hybridization REF</th>\n",
              "      <th>position</th>\n",
              "      <th>gene</th>\n",
              "      <th>chrome</th>\n",
              "      <th>p_vals</th>\n",
              "      <th>mean_cebpa_mut</th>\n",
              "      <th>mean_no_cebpa_mut</th>\n",
              "      <th>mean_cebpa - mean_no_cebpa</th>\n",
              "      <th>site_status</th>\n",
              "      <th>fdr</th>\n",
              "    </tr>\n",
              "    <tr>\n",
              "      <th>Num</th>\n",
              "      <th></th>\n",
              "      <th></th>\n",
              "      <th></th>\n",
              "      <th></th>\n",
              "      <th></th>\n",
              "      <th></th>\n",
              "      <th></th>\n",
              "      <th></th>\n",
              "      <th></th>\n",
              "      <th></th>\n",
              "    </tr>\n",
              "  </thead>\n",
              "  <tbody>\n",
              "    <tr>\n",
              "      <th>1</th>\n",
              "      <td>cg00000029</td>\n",
              "      <td>53468112</td>\n",
              "      <td>RBL2</td>\n",
              "      <td>16</td>\n",
              "      <td>2.760000e-06</td>\n",
              "      <td>0.734078</td>\n",
              "      <td>0.529800</td>\n",
              "      <td>0.204278</td>\n",
              "      <td>no_peak_site</td>\n",
              "      <td>1.721760e-04</td>\n",
              "    </tr>\n",
              "    <tr>\n",
              "      <th>2</th>\n",
              "      <td>cg00000236</td>\n",
              "      <td>42263294</td>\n",
              "      <td>VDAC3</td>\n",
              "      <td>8</td>\n",
              "      <td>5.090000e-14</td>\n",
              "      <td>0.892625</td>\n",
              "      <td>0.767645</td>\n",
              "      <td>0.124981</td>\n",
              "      <td>no_peak_site</td>\n",
              "      <td>5.850000e-11</td>\n",
              "    </tr>\n",
              "    <tr>\n",
              "      <th>3</th>\n",
              "      <td>cg00000289</td>\n",
              "      <td>69341139</td>\n",
              "      <td>ACTN1</td>\n",
              "      <td>14</td>\n",
              "      <td>4.850044e-02</td>\n",
              "      <td>0.835965</td>\n",
              "      <td>0.794356</td>\n",
              "      <td>0.041609</td>\n",
              "      <td>no_peak_site</td>\n",
              "      <td>2.426926e-01</td>\n",
              "    </tr>\n",
              "    <tr>\n",
              "      <th>4</th>\n",
              "      <td>cg00000292</td>\n",
              "      <td>28890100</td>\n",
              "      <td>ATP2A1</td>\n",
              "      <td>16</td>\n",
              "      <td>1.872712e-02</td>\n",
              "      <td>0.852422</td>\n",
              "      <td>0.806690</td>\n",
              "      <td>0.045732</td>\n",
              "      <td>no_peak_site</td>\n",
              "      <td>1.346666e-01</td>\n",
              "    </tr>\n",
              "    <tr>\n",
              "      <th>5</th>\n",
              "      <td>cg00000321</td>\n",
              "      <td>41167802</td>\n",
              "      <td>SFRP1</td>\n",
              "      <td>8</td>\n",
              "      <td>3.752884e-02</td>\n",
              "      <td>0.575149</td>\n",
              "      <td>0.458682</td>\n",
              "      <td>0.116468</td>\n",
              "      <td>no_peak_site</td>\n",
              "      <td>2.086038e-01</td>\n",
              "    </tr>\n",
              "  </tbody>\n",
              "</table>\n",
              "</div>"
            ],
            "text/plain": [
              "    Hybridization REF  position  ...   site_status           fdr\n",
              "Num                              ...                            \n",
              "1          cg00000029  53468112  ...  no_peak_site  1.721760e-04\n",
              "2          cg00000236  42263294  ...  no_peak_site  5.850000e-11\n",
              "3          cg00000289  69341139  ...  no_peak_site  2.426926e-01\n",
              "4          cg00000292  28890100  ...  no_peak_site  1.346666e-01\n",
              "5          cg00000321  41167802  ...  no_peak_site  2.086038e-01\n",
              "\n",
              "[5 rows x 10 columns]"
            ]
          },
          "metadata": {
            "tags": []
          },
          "execution_count": 100
        }
      ]
    },
    {
      "cell_type": "code",
      "metadata": {
        "id": "dKOqvznUwo38"
      },
      "source": [
        "x = pd.to_numeric(df['mean_cebpa - mean_no_cebpa'])\n",
        "y = pd.to_numeric(df['p_vals'])\n",
        "a = pd.to_numeric(df['fdr'])\n",
        "b = df['site_status']\n",
        "z = pd.concat([x,y,a,b], axis=1)"
      ],
      "execution_count": null,
      "outputs": []
    },
    {
      "cell_type": "code",
      "metadata": {
        "id": "ULfcZdiKxvzN"
      },
      "source": [
        "z.columns = ['delta','p_vals','fdr','site']\n",
        "z = z.dropna()\n",
        "z['log'] = np.log10(z['p_vals'])*-1\n"
      ],
      "execution_count": null,
      "outputs": []
    },
    {
      "cell_type": "code",
      "metadata": {
        "id": "tuExFIWjCPbI"
      },
      "source": [
        "def statuser(s):\n",
        "    if (s['log'] > 2) and (s['delta'] > 0.1):\n",
        "        return 'Hypermethylation'\n",
        "    if (s['log'] > 2) and (s['delta'] < -0.1):\n",
        "        return 'Hypomethylation'\n",
        "    #if  (s['log'] < 2) and (s['delta'] < 0.1):\n",
        "   #     return 'no change'\n",
        "    #if  (s['log'] > 2) and (s['delta'] < 0.1):\n",
        "   #     return 'no change'\n",
        "    else:\n",
        "      return 'no change'"
      ],
      "execution_count": null,
      "outputs": []
    },
    {
      "cell_type": "code",
      "metadata": {
        "id": "u6ipzyIAGHZx"
      },
      "source": [
        "z['status'] = z.apply(statuser, axis=1)"
      ],
      "execution_count": null,
      "outputs": []
    },
    {
      "cell_type": "code",
      "metadata": {
        "id": "tpjTU7P2szoY",
        "outputId": "4dd046cf-2ec9-476b-eb5a-2d396f1903d8",
        "colab": {
          "base_uri": "https://localhost:8080/",
          "height": 111
        }
      },
      "source": [
        "#visuz.gene_exp.volcano(df=z, lfc='delta', pv='fdr')\n",
        "z.head(1)"
      ],
      "execution_count": null,
      "outputs": [
        {
          "output_type": "execute_result",
          "data": {
            "text/html": [
              "<div>\n",
              "<style scoped>\n",
              "    .dataframe tbody tr th:only-of-type {\n",
              "        vertical-align: middle;\n",
              "    }\n",
              "\n",
              "    .dataframe tbody tr th {\n",
              "        vertical-align: top;\n",
              "    }\n",
              "\n",
              "    .dataframe thead th {\n",
              "        text-align: right;\n",
              "    }\n",
              "</style>\n",
              "<table border=\"1\" class=\"dataframe\">\n",
              "  <thead>\n",
              "    <tr style=\"text-align: right;\">\n",
              "      <th></th>\n",
              "      <th>delta</th>\n",
              "      <th>p_vals</th>\n",
              "      <th>fdr</th>\n",
              "      <th>site</th>\n",
              "      <th>log</th>\n",
              "      <th>status</th>\n",
              "    </tr>\n",
              "    <tr>\n",
              "      <th>Num</th>\n",
              "      <th></th>\n",
              "      <th></th>\n",
              "      <th></th>\n",
              "      <th></th>\n",
              "      <th></th>\n",
              "      <th></th>\n",
              "    </tr>\n",
              "  </thead>\n",
              "  <tbody>\n",
              "    <tr>\n",
              "      <th>1</th>\n",
              "      <td>0.204278</td>\n",
              "      <td>0.000003</td>\n",
              "      <td>0.000172</td>\n",
              "      <td>no_peak_site</td>\n",
              "      <td>5.559091</td>\n",
              "      <td>Hypermethylation</td>\n",
              "    </tr>\n",
              "  </tbody>\n",
              "</table>\n",
              "</div>"
            ],
            "text/plain": [
              "        delta    p_vals       fdr          site       log            status\n",
              "Num                                                                        \n",
              "1    0.204278  0.000003  0.000172  no_peak_site  5.559091  Hypermethylation"
            ]
          },
          "metadata": {
            "tags": []
          },
          "execution_count": 148
        }
      ]
    },
    {
      "cell_type": "code",
      "metadata": {
        "id": "G8ySNzsrPYl7"
      },
      "source": [
        "import matplotlib.pyplot as plt\n",
        "%matplotlib inline"
      ],
      "execution_count": null,
      "outputs": []
    },
    {
      "cell_type": "code",
      "metadata": {
        "id": "eLqrZ4NztYuc",
        "outputId": "b4970eb0-1e45-4f16-d49b-85b9c8c0ad87",
        "colab": {
          "base_uri": "https://localhost:8080/",
          "height": 324
        }
      },
      "source": [
        "sns.color_palette(\"coolwarm\", as_cmap=True)\n",
        "\n",
        "sns.scatterplot(x='delta', y='log', data=z, hue='status', alpha=None, \n",
        "                palette='coolwarm', edgecolor=None)\n",
        "plt.plot([-0.5, 0.5], [2, 2], linewidth=0.5, color='b')\n",
        "plt.plot([0.1, 0.1], [-1, 30], linewidth=0.5, color='b')\n",
        "plt.plot([-0.1, -0.1], [-1, 30], linewidth=0.5, color='b')\n",
        "plt.legend(loc=\"upper center\", bbox_to_anchor=(0.5, 1.15), ncol=3)\n",
        "plt.xlabel('Methylation change')\n",
        "plt.ylabel('-Log(p-Value)')"
      ],
      "execution_count": null,
      "outputs": [
        {
          "output_type": "execute_result",
          "data": {
            "text/plain": [
              "Text(0, 0.5, '-Log(p-Value)')"
            ]
          },
          "metadata": {
            "tags": []
          },
          "execution_count": 184
        },
        {
          "output_type": "display_data",
          "data": {
            "image/png": "[encoded data removed]",
            "text/plain": [
              "<Figure size 432x288 with 1 Axes>"
            ]
          },
          "metadata": {
            "tags": [],
            "needs_background": "light"
          }
        }
      ]
    },
    {
      "cell_type": "code",
      "metadata": {
        "id": "y_VcrIqnGZJy",
        "outputId": "ea21687a-502e-4fe0-a005-0d485eac359f",
        "colab": {
          "base_uri": "https://localhost:8080/",
          "height": 497
        }
      },
      "source": [
        "sns.color_palette(\"coolwarm\", as_cmap=True)\n",
        "\n",
        "z[\"alpha\"] = np.where(z.site == \"peak_site\", 0.2, 0.3)\n",
        "\n",
        "ax = sns.scatterplot(x='delta', y='log', data=z[z.alpha == 0.3], alpha=0.3,\n",
        "                     edgecolor = None, color='orange')\n",
        "sns.scatterplot(x='delta', y='log', data=z[z.alpha == 0.2], \n",
        "                alpha=0.2, ax=ax, edgecolor = None, color='b')\n",
        "\n",
        "plt.legend(('peak_site', 'no_peak_site'), ('cebpa', 'non cebpa'))\n",
        "plt.legend(loc=\"upper center\", bbox_to_anchor=(0.5, 1.15), ncol=3)\n",
        "plt.plot([-0.5, 0.5], [2, 2], linewidth=0.5, color='r')\n",
        "plt.plot([0.1, 0.1], [-1, 30], linewidth=0.5, color='r')\n",
        "plt.plot([-0.1, -0.1], [-1, 30], linewidth=0.5, color='r')\n",
        "plt.xlabel('Methylation change')\n",
        "plt.ylabel('-Log(p-Value)')"
      ],
      "execution_count": null,
      "outputs": [
        {
          "output_type": "stream",
          "text": [
            "/usr/local/lib/python3.6/dist-packages/ipykernel_launcher.py:10: UserWarning: Legend does not support 'peak_site' instances.\n",
            "A proxy artist may be used instead.\n",
            "See: http://matplotlib.org/users/legend_guide.html#creating-artists-specifically-for-adding-to-the-legend-aka-proxy-artists\n",
            "  # Remove the CWD from sys.path while we load stuff.\n",
            "/usr/local/lib/python3.6/dist-packages/ipykernel_launcher.py:10: UserWarning: Legend does not support 'no_peak_site' instances.\n",
            "A proxy artist may be used instead.\n",
            "See: http://matplotlib.org/users/legend_guide.html#creating-artists-specifically-for-adding-to-the-legend-aka-proxy-artists\n",
            "  # Remove the CWD from sys.path while we load stuff.\n",
            "No handles with labels found to put in legend.\n"
          ],
          "name": "stderr"
        },
        {
          "output_type": "execute_result",
          "data": {
            "text/plain": [
              "Text(0, 0.5, '-Log(p-Value)')"
            ]
          },
          "metadata": {
            "tags": []
          },
          "execution_count": 186
        },
        {
          "output_type": "display_data",
          "data": {
            "image/png": "[encoded data removed]",
            "text/plain": [
              "<Figure size 432x288 with 1 Axes>"
            ]
          },
          "metadata": {
            "tags": [],
            "needs_background": "light"
          }
        }
      ]
    },
    {
      "cell_type": "code",
      "metadata": {
        "id": "zG_JPrsbhJOZ"
      },
      "source": [
        ""
      ],
      "execution_count": null,
      "outputs": []
    }
  ]
}